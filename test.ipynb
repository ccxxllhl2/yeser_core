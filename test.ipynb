{
 "cells": [
  {
   "cell_type": "code",
   "execution_count": 2,
   "metadata": {},
   "outputs": [],
   "source": [
    "from alert import Teams\n",
    "\n",
    "sender = Teams()\n",
    "sender.send_msg('''# 测试\n",
    "* 网络测试成功！\n",
    "* 主机测试成功！\n",
    "* 安全测试成功!\n",
    "<br>\n",
    "<p>非常感谢您！</p>\n",
    "\n",
    "恭喜全部测试通过！\n",
    "                ''')"
   ]
  },
  {
   "cell_type": "markdown",
   "metadata": {},
   "source": [
    "# 测试\n",
    "* 网络测试成功！\n",
    "* 主机测试成功！\n",
    "* 安全测试成功!\n",
    "<br>\n",
    "<p>非常感谢您！</p>\n",
    "\n",
    "恭喜全部测试通过！"
   ]
  },
  {
   "cell_type": "markdown",
   "metadata": {},
   "source": []
  }
 ],
 "metadata": {
  "kernelspec": {
   "display_name": "Python 3",
   "language": "python",
   "name": "python3"
  },
  "language_info": {
   "codemirror_mode": {
    "name": "ipython",
    "version": 3
   },
   "file_extension": ".py",
   "mimetype": "text/x-python",
   "name": "python",
   "nbconvert_exporter": "python",
   "pygments_lexer": "ipython3",
   "version": "3.9.13"
  }
 },
 "nbformat": 4,
 "nbformat_minor": 2
}
